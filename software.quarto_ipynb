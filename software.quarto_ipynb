{
 "cells": [
  {
   "cell_type": "markdown",
   "id": "d270bd64",
   "metadata": {},
   "source": [
    "---\n",
    "title: \"Software\"\n",
    "echo: false\n",
    "jupyter: python3\n",
    "section-divs: false\n",
    "keep-md: false\n",
    "execute: \n",
    "  include: true\n",
    "sidebar: false\n",
    "freeze: auto\n",
    "keep-ipynb: true\n",
    "---"
   ]
  },
  {
   "cell_type": "code",
   "execution_count": 1,
   "id": "software",
   "metadata": {},
   "outputs": [
    {
     "data": {
      "text/markdown": [
       "## `soundscapy` {#s}"
      ],
      "text/plain": [
       "<IPython.core.display.Markdown object>"
      ]
     },
     "metadata": {},
     "output_type": "display_data"
    },
    {
     "data": {
      "text/html": [
       "<img src=https://raw.githubusercontent.com/MitchellAcoustics/Soundscapy/main/docs/img/LightLogo.png href='https://soundscapy.readthedocs.io/en/latest/' align='right' alt='' width='160.0'>"
      ],
      "text/plain": [
       "<IPython.core.display.HTML object>"
      ]
     },
     "metadata": {},
     "output_type": "display_data"
    },
    {
     "data": {
      "text/markdown": [
       "`soundscapy` is a Python package for the analysis of soundscapes.  \n",
       "This package was designed to (1) load and process soundscape assessment data, \n",
       "(2) visualise the data, and (3) enable psychoacoustic analysis of soundscape recordings.\n"
      ],
      "text/plain": [
       "<IPython.core.display.Markdown object>"
      ]
     },
     "metadata": {},
     "output_type": "display_data"
    },
    {
     "data": {
      "text/markdown": [
       "![](https://img.shields.io/pypi/dm/soundscapy) &nbsp; &nbsp; &nbsp; ![](https://img.shields.io/pypi/v/soundscapy)"
      ],
      "text/plain": [
       "<IPython.core.display.Markdown object>"
      ]
     },
     "metadata": {},
     "output_type": "display_data"
    },
    {
     "data": {
      "text/html": [
       "<a class=\"btn btn-outline-dark btn-sm\", href=\"https://soundscapy.readthedocs.io/en/latest/\" target=\"_blank\" rel=\"noopener noreferrer\">\n",
       "        <i class=\"bi bi-info\" role='img' aria-label='Website'></i>\n",
       "        Website\n",
       "    </a> <a class=\"btn btn-outline-dark btn-sm\", href=\"https://github.com/MitchellAcoustics/Soundscapy\" target=\"_blank\" rel=\"noopener noreferrer\">\n",
       "        <i class=\"bi bi-github\" role='img' aria-label='Github'></i>\n",
       "        Github\n",
       "    </a> <a class=\"btn btn-outline-dark btn-sm\", href=\"https://pypi.org/project/soundscapy/\" target=\"_blank\" rel=\"noopener noreferrer\">\n",
       "        <i class=\"bi bi-box-seam\" role='img' aria-label='Package'></i>\n",
       "        Package\n",
       "    </a>"
      ],
      "text/plain": [
       "<IPython.core.display.HTML object>"
      ]
     },
     "metadata": {},
     "output_type": "display_data"
    },
    {
     "data": {
      "text/markdown": [
       "## `circumplex` {#c}"
      ],
      "text/plain": [
       "<IPython.core.display.Markdown object>"
      ]
     },
     "metadata": {},
     "output_type": "display_data"
    },
    {
     "data": {
      "text/html": [
       "<img src=https://raw.githubusercontent.com/MitchellAcoustics/circumplex/main/docs/img/logo-light.png href='https://circumplex.readthedocs.io/en/latest/' align='right' alt='' width='160.0'>"
      ],
      "text/plain": [
       "<IPython.core.display.HTML object>"
      ]
     },
     "metadata": {},
     "output_type": "display_data"
    },
    {
     "data": {
      "text/markdown": [
       "`circumplex` is a Python package for analyzing and visualizing circumplex data. \n",
       "It provides a set of tools for analyzing and visualizing circumplex data, following \n",
       "the Structural Summary Method. This project is a Python implementation based on the R \n",
       "circumplex package. Our goal is to provide a similar functionality and experience for \n",
       "Python users.  \n"
      ],
      "text/plain": [
       "<IPython.core.display.Markdown object>"
      ]
     },
     "metadata": {},
     "output_type": "display_data"
    },
    {
     "data": {
      "text/markdown": [
       "![](https://img.shields.io/pypi/dm/circumplex) &nbsp; &nbsp; &nbsp; ![](https://img.shields.io/pypi/v/circumplex)"
      ],
      "text/plain": [
       "<IPython.core.display.Markdown object>"
      ]
     },
     "metadata": {},
     "output_type": "display_data"
    },
    {
     "data": {
      "text/html": [
       "<a class=\"btn btn-outline-dark btn-sm\", href=\"https://circumplex.readthedocs.io/en/latest/\" target=\"_blank\" rel=\"noopener noreferrer\">\n",
       "        <i class=\"bi bi-info\" role='img' aria-label='Website'></i>\n",
       "        Website\n",
       "    </a> <a class=\"btn btn-outline-dark btn-sm\", href=\"https://github.com/MitchellAcoustics/circumplex\" target=\"_blank\" rel=\"noopener noreferrer\">\n",
       "        <i class=\"bi bi-github\" role='img' aria-label='Github'></i>\n",
       "        Github\n",
       "    </a> <a class=\"btn btn-outline-dark btn-sm\", href=\"https://pypi.org/project/circumplex/\" target=\"_blank\" rel=\"noopener noreferrer\">\n",
       "        <i class=\"bi bi-box-seam\" role='img' aria-label='Package'></i>\n",
       "        Package\n",
       "    </a>"
      ],
      "text/plain": [
       "<IPython.core.display.HTML object>"
      ]
     },
     "metadata": {},
     "output_type": "display_data"
    },
    {
     "data": {
      "text/markdown": [
       "## `CitySeg` {#C}"
      ],
      "text/plain": [
       "<IPython.core.display.Markdown object>"
      ]
     },
     "metadata": {},
     "output_type": "display_data"
    },
    {
     "data": {
      "text/markdown": [
       "A flexible and efficient pipeline for performing semantic segmentation on images and videos of urban environments."
      ],
      "text/plain": [
       "<IPython.core.display.Markdown object>"
      ]
     },
     "metadata": {},
     "output_type": "display_data"
    },
    {
     "data": {
      "text/html": [
       "<a class=\"btn btn-outline-dark btn-sm\", href=\"https://cityseg.readthedocs.io/en/latest/\" target=\"_blank\" rel=\"noopener noreferrer\">\n",
       "        <i class=\"bi bi-info\" role='img' aria-label='Website'></i>\n",
       "        Website\n",
       "    </a> <a class=\"btn btn-outline-dark btn-sm\", href=\"https://github.com/soundscape-labs/cityseg\" target=\"_blank\" rel=\"noopener noreferrer\">\n",
       "        <i class=\"bi bi-github\" role='img' aria-label='Github'></i>\n",
       "        Github\n",
       "    </a>"
      ],
      "text/plain": [
       "<IPython.core.display.HTML object>"
      ]
     },
     "metadata": {},
     "output_type": "display_data"
    },
    {
     "data": {
      "text/markdown": [
       "## `DevContainer Template Manager` {#D}"
      ],
      "text/plain": [
       "<IPython.core.display.Markdown object>"
      ]
     },
     "metadata": {},
     "output_type": "display_data"
    },
    {
     "data": {
      "text/html": [
       "<img src=https://raw.githubusercontent.com/MitchellAcoustics/devcontainer-template-manager/main/icons/DEV-TM-icon.png href='https://marketplace.visualstudio.com/items?itemName=AndrewMitchell.devcontainer-template-manager' align='right' alt='' width='120.0'>"
      ],
      "text/plain": [
       "<IPython.core.display.HTML object>"
      ]
     },
     "metadata": {},
     "output_type": "display_data"
    },
    {
     "data": {
      "text/markdown": [
       "A VS Code Extension for managing and creating devcontainer templates."
      ],
      "text/plain": [
       "<IPython.core.display.Markdown object>"
      ]
     },
     "metadata": {},
     "output_type": "display_data"
    },
    {
     "data": {
      "text/html": [
       "<a class=\"btn btn-outline-dark btn-sm\", href=\"https://marketplace.visualstudio.com/items?itemName=AndrewMitchell.devcontainer-template-manager\" target=\"_blank\" rel=\"noopener noreferrer\">\n",
       "        <i class=\"bi bi-info\" role='img' aria-label='Website'></i>\n",
       "        Website\n",
       "    </a> <a class=\"btn btn-outline-dark btn-sm\", href=\"https://github.com/MitchellAcoustics/devcontainer-template-manager\" target=\"_blank\" rel=\"noopener noreferrer\">\n",
       "        <i class=\"bi bi-github\" role='img' aria-label='Github'></i>\n",
       "        Github\n",
       "    </a>"
      ],
      "text/plain": [
       "<IPython.core.display.HTML object>"
      ]
     },
     "metadata": {},
     "output_type": "display_data"
    }
   ],
   "source": [
    "#| label: software\n",
    "#| output: asis\n",
    "import yaml\n",
    "from IPython.display import display, Markdown, HTML\n",
    "\n",
    "\n",
    "def button(url, str, icon):\n",
    "    icon_base = icon[:2]\n",
    "    return f\"\"\"<a class=\"btn btn-outline-dark btn-sm\", href=\"{url}\" target=\"_blank\" rel=\"noopener noreferrer\">\n",
    "        <i class=\"{icon_base} {icon}\" role='img' aria-label='{str}'></i>\n",
    "        {str}\n",
    "    </a>\"\"\"\n",
    "\n",
    "\n",
    "yaml_data = yaml.safe_load(open(\"software.yaml\"))\n",
    "\n",
    "\n",
    "def downloads_badge(package_name: str) -> str:\n",
    "    return f\"\"\"![](https://img.shields.io/pypi/dm/{package_name})\"\"\"\n",
    "\n",
    "\n",
    "def pypi_v_badge(package_name: str) -> str:\n",
    "    return f\"\"\"![](https://img.shields.io/pypi/v/{package_name})\"\"\"\n",
    "\n",
    "\n",
    "for data in yaml_data[::1]:\n",
    "    logo_scale = data.get(\"logo_scale\", 1)\n",
    "    width = 200 * logo_scale\n",
    "\n",
    "    display(Markdown(\"## `\" + data[\"title\"] + \"` {#\" + data[\"title\"][0] + \"}\"))\n",
    "\n",
    "    if \"logo\" in data:\n",
    "        display(\n",
    "            HTML(\n",
    "                f\"<img src={data['logo']} href='{data['website']}' align='right' alt='' width='{width}'>\"\n",
    "            )\n",
    "        )\n",
    "\n",
    "    display(Markdown(data[\"description\"]))\n",
    "    if \"package\" in data:\n",
    "        package_name = data[\"package\"].split(\"/\")[-2]\n",
    "        display(\n",
    "            Markdown(\n",
    "                downloads_badge(package_name)\n",
    "                + \" &nbsp; &nbsp; &nbsp; \"\n",
    "                + pypi_v_badge(package_name)\n",
    "            )\n",
    "        )\n",
    "    buttons = []\n",
    "    if \"website\" in data:\n",
    "        buttons.append(button(data[\"website\"], \"Website\", \"bi-info\"))\n",
    "    if \"github\" in data:\n",
    "        buttons.append(button(data[\"github\"], \"Github\", \"bi-github\"))\n",
    "    if \"package\" in data:\n",
    "        buttons.append(button(data[\"package\"], \"Package\", \"bi-box-seam\"))\n",
    "\n",
    "    display(HTML(\" \".join(buttons)))"
   ]
  }
 ],
 "metadata": {
  "kernelspec": {
   "display_name": "Python 3 (ipykernel)",
   "language": "python",
   "name": "python3",
   "path": "/Users/mitch/Documents/GitHub/quarto-website/.venv/share/jupyter/kernels/python3"
  }
 },
 "nbformat": 4,
 "nbformat_minor": 5
}
