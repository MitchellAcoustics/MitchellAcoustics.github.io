{
  "cells": [
    {
      "cell_type": "code",
      "execution_count": 1,
      "metadata": {},
      "outputs": [
        {
          "output_type": "display_data",
          "metadata": {},
          "data": {}
        },
        {
          "output_type": "display_data",
          "metadata": {},
          "data": {
            "text/html": [
              "<ul></ul>"
            ]
          }
        },
        {
          "output_type": "display_data",
          "metadata": {},
          "data": {}
        },
        {
          "output_type": "display_data",
          "metadata": {},
          "data": {
            "text/html": [
              "<ul><li>David Arbour, <strong>Drew Dimmery</strong>, Anup Rao, and Tung Mai. (2022) \"This is a paper title.\"<br><a class=\"btn btn-outline-dark\", href=\"http://ddimmery.com\">\n",
              "        <i class=\"bi file-earmark-pdf\" role='img' aria-label='GitHub'></i>\n",
              "        Preprint\n",
              "    </a> <a class=\"btn btn-outline-dark\", href=\"http://github.com/ddimmery\">\n",
              "        <i class=\"bi github\" role='img' aria-label='GitHub'></i>\n",
              "        Github\n",
              "    </a></li></ul>"
            ]
          }
        }
      ],
      "source": [],
      "id": "3379c3c6-4b8f-4ecb-aad8-116d8d3c9f16"
    }
  ],
  "nbformat": 4,
  "nbformat_minor": 5,
  "metadata": {
    "kernelspec": {
      "name": "python3",
      "display_name": "Python 3",
      "language": "python"
    },
    "language_info": {
      "name": "python",
      "codemirror_mode": {
        "name": "ipython",
        "version": "3"
      },
      "file_extension": ".py",
      "mimetype": "text/x-python",
      "nbconvert_exporter": "python",
      "pygments_lexer": "ipython3",
      "version": "3.9.12"
    }
  }
}